{
 "cells": [
  {
   "cell_type": "code",
   "execution_count": null,
   "metadata": {},
   "outputs": [
    {
     "name": "stdout",
     "output_type": "stream",
     "text": [
      "Error fetching data for movie ID 0: 404 Client Error: Not Found for url: https://api.themoviedb.org/3/movie/0?api_key=c77dbb6c6c1f73c1976abf0cadb639f1\n",
      "Fetched data for movie ID: 299534 - Avengers: Endgame\n",
      "Fetched data for movie ID: 19995 - Avatar\n",
      "Fetched data for movie ID: 140607 - Star Wars: The Force Awakens\n",
      "Fetched data for movie ID: 299536 - Avengers: Infinity War\n",
      "Fetched data for movie ID: 597 - Titanic\n",
      "Fetched data for movie ID: 135397 - Jurassic World\n",
      "Fetched data for movie ID: 420818 - The Lion King\n",
      "Fetched data for movie ID: 24428 - The Avengers\n",
      "Fetched data for movie ID: 168259 - Furious 7\n",
      "Fetched data for movie ID: 99861 - Avengers: Age of Ultron\n",
      "Fetched data for movie ID: 284054 - Black Panther\n",
      "Fetched data for movie ID: 12445 - Harry Potter and the Deathly Hallows: Part 2\n",
      "Fetched data for movie ID: 181808 - Star Wars: The Last Jedi\n",
      "Fetched data for movie ID: 330457 - Frozen II\n",
      "Fetched data for movie ID: 351286 - Jurassic World: Fallen Kingdom\n",
      "Fetched data for movie ID: 109445 - Frozen\n",
      "Fetched data for movie ID: 321612 - Beauty and the Beast\n",
      "Fetched data for movie ID: 260513 - Incredibles 2\n"
     ]
    }
   ],
   "source": [
    "import requests\n",
    "import pandas as pd\n",
    "\n",
    "api_key = \"c77dbb6c6c1f73c1976abf0cadb639f1\"\n",
    "base_url = \"https://api.themoviedb.org/3/movie/\"\n",
    "movie_ids = [0, 299534, 19995, 140607, 299536, 597, 135397,\n",
    "             420818, 24428, 168259, 99861, 284054, 12445,\n",
    "             181808, 330457, 351286, 109445, 321612, 260513]\n",
    "\n",
    "movie_data = []\n",
    "\n",
    "for movie_id in movie_ids:\n",
    "\n",
    "    url = f\"{base_url}{movie_id}?api_key={api_key}\"\n",
    "    try:\n",
    "        response = requests.get(url)\n",
    "        # Raise an exception for bad status codes\n",
    "        response.raise_for_status()  \n",
    "        data = response.json()\n",
    "        movie_data.append(data)\n",
    "        print(f\"Fetched data for movie ID: {movie_id} - {data.get('title')}\")\n",
    "    except requests.exceptions.RequestException as e:\n",
    "        print(f\"Error fetching data for movie ID {movie_id}: {e}\")\n",
    "    except ValueError:\n",
    "        print(f\"Error decoding JSON for movie ID {movie_id}\")\n",
    "\n",
    "# Creating a Pandas DataFrame from the fetched data\n",
    "df = pd.DataFrame(movie_data)\n",
    "\n",
    "df.to_csv(\"../data/extracted_df.csv\")"
   ]
  },
  {
   "cell_type": "code",
   "execution_count": null,
   "metadata": {},
   "outputs": [],
   "source": []
  },
  {
   "cell_type": "code",
   "execution_count": null,
   "metadata": {},
   "outputs": [],
   "source": []
  }
 ],
 "metadata": {
  "kernelspec": {
   "display_name": "base",
   "language": "python",
   "name": "python3"
  },
  "language_info": {
   "codemirror_mode": {
    "name": "ipython",
    "version": 3
   },
   "file_extension": ".py",
   "mimetype": "text/x-python",
   "name": "python",
   "nbconvert_exporter": "python",
   "pygments_lexer": "ipython3",
   "version": "3.11.5"
  }
 },
 "nbformat": 4,
 "nbformat_minor": 2
}
